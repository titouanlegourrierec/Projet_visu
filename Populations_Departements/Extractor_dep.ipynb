{
 "cells": [
  {
   "cell_type": "code",
   "execution_count": 1,
   "metadata": {},
   "outputs": [],
   "source": [
    "import requests\n",
    "from bs4 import BeautifulSoup\n",
    "import pandas as pd"
   ]
  },
  {
   "cell_type": "code",
   "execution_count": 2,
   "metadata": {},
   "outputs": [],
   "source": [
    "url = 'https://www.insee.fr/fr/statistiques/6683015?sommaire=6683037'\n",
    "page = requests.get(url) #Getting page content"
   ]
  },
  {
   "cell_type": "code",
   "execution_count": 3,
   "metadata": {},
   "outputs": [],
   "source": [
    "soup = BeautifulSoup(page.text, 'html.parser') #Creating a BeautifulSoup object"
   ]
  },
  {
   "cell_type": "code",
   "execution_count": 4,
   "metadata": {},
   "outputs": [],
   "source": [
    "table = soup.find(attrs={'class':'tableau-produit'}) #Find the table\n",
    "list_rows = table.find_all('tr') #Creating the list containing the table rows"
   ]
  },
  {
   "cell_type": "code",
   "execution_count": 5,
   "metadata": {},
   "outputs": [],
   "source": [
    "list_code = list()\n",
    "list_nom = list()\n",
    "list_pop = list()\n",
    "\n",
    "for row in list_rows[1:] :\n",
    "    code = row.contents[1].text\n",
    "    list_code.append(code)\n",
    "\n",
    "    nom = row.contents[3].text\n",
    "    list_nom.append(nom)\n",
    "\n",
    "    pop = int(row.contents[5].text.replace(\" \",\"\").replace(\"\\xa0\",\"\"))\n",
    "    list_pop.append(pop)"
   ]
  },
  {
   "cell_type": "code",
   "execution_count": 8,
   "metadata": {},
   "outputs": [
    {
     "data": {
      "text/plain": [
       "[657856,\n",
       " 529374,\n",
       " 335628,\n",
       " 165451,\n",
       " 140605,\n",
       " 1097410,\n",
       " 329325,\n",
       " 269701,\n",
       " 153954,\n",
       " 311435,\n",
       " 375217,\n",
       " 279554,\n",
       " 2048070,\n",
       " 697547,\n",
       " 144379,\n",
       " 351718,\n",
       " 655709,\n",
       " 300933,\n",
       " 239190,\n",
       " 160814,\n",
       " 182887,\n",
       " 535078,\n",
       " 603640,\n",
       " 115995,\n",
       " 412807,\n",
       " 545209,\n",
       " 517709,\n",
       " 599668,\n",
       " 431443,\n",
       " 917179,\n",
       " 751457,\n",
       " 1415757,\n",
       " 191819,\n",
       " 1636391,\n",
       " 1188973,\n",
       " 1088855,\n",
       " 218707,\n",
       " 612119,\n",
       " 1277513,\n",
       " 258798,\n",
       " 418122,\n",
       " 329357,\n",
       " 768508,\n",
       " 227489,\n",
       " 1445171,\n",
       " 682304,\n",
       " 174670,\n",
       " 330844,\n",
       " 76633,\n",
       " 820713,\n",
       " 495093,\n",
       " 566659,\n",
       " 171798,\n",
       " 306538,\n",
       " 732590,\n",
       " 183001,\n",
       " 764161,\n",
       " 1049155,\n",
       " 202670,\n",
       " 2607746,\n",
       " 829699,\n",
       " 278475,\n",
       " 1462167,\n",
       " 661852,\n",
       " 687240,\n",
       " 229788,\n",
       " 482765,\n",
       " 1148073,\n",
       " 767842,\n",
       " 1883437,\n",
       " 234601,\n",
       " 551063,\n",
       " 566993,\n",
       " 439750,\n",
       " 835206,\n",
       " 2145906,\n",
       " 1254739,\n",
       " 1428636,\n",
       " 1449723,\n",
       " 374481,\n",
       " 568748,\n",
       " 391066,\n",
       " 262316,\n",
       " 1085189,\n",
       " 561941,\n",
       " 692705,\n",
       " 439332,\n",
       " 372123,\n",
       " 362397,\n",
       " 334156,\n",
       " 140120,\n",
       " 1306118,\n",
       " 1626213,\n",
       " 1655422,\n",
       " 1407972,\n",
       " 1251804,\n",
       " 383559,\n",
       " 361225,\n",
       " 285133,\n",
       " 863083]"
      ]
     },
     "execution_count": 8,
     "metadata": {},
     "output_type": "execute_result"
    }
   ],
   "source": [
    "df = pandas.DataFrame({'code_insee': list_code,\n",
    "                       'nom': list_nom,\n",
    "                       'pop': list_pop})\n",
    "df.to_csv(\"AllPages.csv\")"
   ]
  }
 ],
 "metadata": {
  "kernelspec": {
   "display_name": "base",
   "language": "python",
   "name": "python3"
  },
  "language_info": {
   "codemirror_mode": {
    "name": "ipython",
    "version": 3
   },
   "file_extension": ".py",
   "mimetype": "text/x-python",
   "name": "python",
   "nbconvert_exporter": "python",
   "pygments_lexer": "ipython3",
   "version": "3.11.8"
  }
 },
 "nbformat": 4,
 "nbformat_minor": 2
}
