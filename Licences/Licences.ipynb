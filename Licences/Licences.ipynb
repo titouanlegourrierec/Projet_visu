{
 "cells": [
  {
   "cell_type": "code",
   "execution_count": 20,
   "metadata": {},
   "outputs": [],
   "source": [
    "import pandas as pd\n",
    "import numpy as np"
   ]
  },
  {
   "cell_type": "code",
   "execution_count": 22,
   "metadata": {},
   "outputs": [],
   "source": [
    "list_dept = [str(i).zfill(2) for i in range(1, 96)] #list of all departments\n",
    "list_sexe = ['F', 'H']\n",
    "list_tranche_age = ['1 - Enfants (1-13)',\n",
    "                    '2 - Jeunes (14-20)',\n",
    "                    '3 - Adultes (21-55)',\n",
    "                    '4 - Seniors (56-99)']\n",
    "list_sport = ['Fédération Française de Football',\n",
    "              'Fédération Française de Tennis',\n",
    "              'Fédération Française de Basketball',\n",
    "              'Fédération Française de Judo',\n",
    "              'Fédération Française de Handball',\n",
    "              'Fédération Française de Golf',\n",
    "              'Fédération Française de Natation',\n",
    "              'Fédération Française de Rugby']"
   ]
  },
  {
   "cell_type": "code",
   "execution_count": 60,
   "metadata": {},
   "outputs": [],
   "source": [
    "# Load data from a CSV file located at the specified path\n",
    "data = pd.read_csv('/Users/titouanlegourrierec/Desktop/Lics_2022.csv', sep=\";\")"
   ]
  },
  {
   "cell_type": "code",
   "execution_count": 97,
   "metadata": {},
   "outputs": [],
   "source": [
    "# Create a pivot table from the 'data' DataFrame\n",
    "pivot_table = data.pivot_table(index='Département', columns=['Sport', \"Tranche d'age\", \"Sexe\"], values='Nombre de licences', aggfunc='sum')\n",
    "\n",
    "# Filter out rows with department codes that start with certain values\n",
    "donnees_filtrees = pivot_table[~pivot_table.index.str.startswith(('975', '976', '977', '978', '980', '986', '987', '988', 'ETR'))]\n",
    "\n",
    "# Modify the index of the filtered data by removing additional information after '-'\n",
    "donnees_filtrees.index = donnees_filtrees.index.map(lambda x: x.split(' - ')[0])\n",
    "\n",
    "# Save the filtered data to a new CSV file named 'test_licenses.csv'\n",
    "donnees_filtrees.to_csv(\"test_licenses.csv\")"
   ]
  },
  {
   "cell_type": "code",
   "execution_count": 75,
   "metadata": {},
   "outputs": [
    {
     "name": "stdout",
     "output_type": "stream",
     "text": [
      "[10102.0, 6187.0, 4019.0, 1606.0, 1209.0, 12711.0, 4181.0, 3366.0, 1545.0, 3645.0, 3619.0, 3856.0, 24071.0, 8838.0, 1733.0, 3796.0, 6765.0, 3509.0, 2794.0, 5840.0, 9750.0, 1080.0, 4269.0, 9033.0, 6502.0, 8337.0, 6162.0, 13502.0, 1652.0, 1980.0, 8685.0, 17852.0, 2071.0, 18836.0, 13987.0, 19609.0, 2688.0, 7216.0, 17067.0, 3357.0, 4996.0, 4178.0, 10953.0, 3630.0, 23012.0, 9010.0, 1734.0, 3495.0, 1067.0, 14180.0, 6812.0, 6124.0, 2019.0, 6090.0, 9588.0, 2121.0, 10731.0, 16473.0, 1796.0, 39996.0, 12508.0, 3491.0, 24997.0, 7658.0, 9109.0, 2488.0, 4768.0, 15358.0, 9866.0, 22082.0, 3317.0, 7222.0, 8507.0, 4618.0, 12125.0, 10945.0, 15638.0, 20406.0, 21776.0, 5628.0, 7127.0, 4430.0, 3430.0, 11129.0, 6723.0, 12069.0, 5425.0, 4243.0, 4188.0, 4403.0, 1892.0, 18853.0, 17396.0, 21250.0, 16234.0, 19933.0, 3082.0, 2401.0, 2001.0, 7089.0, 308.0, 3043.0, 119.0, 452.0, 246.0, 6.0, nan, nan, 84.0]\n"
     ]
    }
   ],
   "source": [
    "# Convert the index of the filtered data to a list\n",
    "liste_departements = donnees_filtrees.index.tolist()\n",
    "\n",
    "# Extract a specific column from the original pivot table and convert it to a list\n",
    "colonne = pivot_table[('Fédération Française de Football', '1 - Enfants (1-13)')].tolist()\n",
    "\n",
    "# Print the extracted column\n",
    "print(colonne)\n"
   ]
  },
  {
   "cell_type": "code",
   "execution_count": 107,
   "metadata": {},
   "outputs": [],
   "source": [
    "# Create a DataFrame with specified columns and data\n",
    "df = pd.DataFrame({'code_insee': donnees_filtrees.index.tolist(),\n",
    "                   \n",
    "                    'Football (1-13) H': donnees_filtrees[('Fédération Française de Football', '1 - Enfants (1-13)', 'H')].tolist(),\n",
    "                    'Football (14-20) H': donnees_filtrees[('Fédération Française de Football', '2 - Jeunes (14-20)', 'H')].tolist(),\n",
    "                    'Football (21-55) H': donnees_filtrees[('Fédération Française de Football', '3 - Adultes (21-55)', 'H')].tolist(),\n",
    "                    'Football (56-99) H': donnees_filtrees[('Fédération Française de Football', '4 - Seniors (56-99)', 'H')].tolist(),\n",
    "\n",
    "                    'Tennis (1-13) H': donnees_filtrees[('Fédération Française de Tennis', '1 - Enfants (1-13)', 'H')].tolist(),\n",
    "                    'Tennis (14-20) H': donnees_filtrees[('Fédération Française de Tennis', '2 - Jeunes (14-20)', 'H')].tolist(),\n",
    "                    'Tennis (21-55) H': donnees_filtrees[('Fédération Française de Tennis', '3 - Adultes (21-55)', 'H')].tolist(),\n",
    "                    'Tennis (56-99) H': donnees_filtrees[('Fédération Française de Tennis', '4 - Seniors (56-99)', 'H')].tolist(),\n",
    "\n",
    "                    'Basketball (1-13) H': donnees_filtrees[('Fédération Française de Basketball', '1 - Enfants (1-13)', 'H')].tolist(),\n",
    "                    'Basketball (14-20) H': donnees_filtrees[('Fédération Française de Basketball', '2 - Jeunes (14-20)', 'H')].tolist(),\n",
    "                    'Basketball (21-55) H': donnees_filtrees[('Fédération Française de Basketball', '3 - Adultes (21-55)', 'H')].tolist(),\n",
    "                    'Basketball (56-99) H': donnees_filtrees[('Fédération Française de Basketball', '4 - Seniors (56-99)', 'H')].tolist(),\n",
    "\n",
    "                    'Judo (1-13) H': donnees_filtrees[('Fédération Française de Judo, Jujitsu, Kendo et Disciplines Associées', '1 - Enfants (1-13)', 'H')].tolist(),\n",
    "                    'Judo (14-20) H': donnees_filtrees[('Fédération Française de Judo, Jujitsu, Kendo et Disciplines Associées', '2 - Jeunes (14-20)', 'H')].tolist(),\n",
    "                    'Judo (21-55) H': donnees_filtrees[('Fédération Française de Judo, Jujitsu, Kendo et Disciplines Associées', '3 - Adultes (21-55)', 'H')].tolist(),\n",
    "                    'Judo (56-99) H': donnees_filtrees[('Fédération Française de Judo, Jujitsu, Kendo et Disciplines Associées', '4 - Seniors (56-99)', 'H')].tolist(),\n",
    "\n",
    "                    'Handball (1-13) H': donnees_filtrees[('Fédération Française de Handball', '1 - Enfants (1-13)', 'H')].tolist(),\n",
    "                    'Handball (14-20) H': donnees_filtrees[('Fédération Française de Handball', '2 - Jeunes (14-20)', 'H')].tolist(),\n",
    "                    'Handball (21-55) H': donnees_filtrees[('Fédération Française de Handball', '3 - Adultes (21-55)', 'H')].tolist(),\n",
    "                    'Handball (56-99) H': donnees_filtrees[('Fédération Française de Handball', '4 - Seniors (56-99)', 'H')].tolist(),\n",
    "\n",
    "                    'Golf (1-13) H': donnees_filtrees[('Fédération Française de Golf', '1 - Enfants (1-13)', 'H')].tolist(),\n",
    "                    'Golf (14-20) H': donnees_filtrees[('Fédération Française de Golf', '2 - Jeunes (14-20)', 'H')].tolist(),\n",
    "                    'Golf (21-55) H': donnees_filtrees[('Fédération Française de Golf', '3 - Adultes (21-55)', 'H')].tolist(),\n",
    "                    'Golf (56-99) H': donnees_filtrees[('Fédération Française de Golf', '4 - Seniors (56-99)', 'H')].tolist(),\n",
    "\n",
    "                    'Natation (1-13) H': donnees_filtrees[('Fédération Française de Natation', '1 - Enfants (1-13)', 'H')].tolist(),\n",
    "                    'Natation (14-20) H': donnees_filtrees[('Fédération Française de Natation', '2 - Jeunes (14-20)', 'H')].tolist(),\n",
    "                    'Natation (21-55) H': donnees_filtrees[('Fédération Française de Natation', '3 - Adultes (21-55)', 'H')].tolist(),\n",
    "                    'Natation (56-99) H': donnees_filtrees[('Fédération Française de Natation', '4 - Seniors (56-99)', 'H')].tolist(),\n",
    "\n",
    "                    'Rugby (1-13) H': donnees_filtrees[('Fédération Française de Rugby', '1 - Enfants (1-13)', 'H')].tolist(),\n",
    "                    'Rugby (14-20) H': donnees_filtrees[('Fédération Française de Rugby', '2 - Jeunes (14-20)', 'H')].tolist(),\n",
    "                    'Rugby (21-55) H': donnees_filtrees[('Fédération Française de Rugby', '3 - Adultes (21-55)', 'H')].tolist(),\n",
    "                    'Rugby (56-99) H': donnees_filtrees[('Fédération Française de Rugby', '4 - Seniors (56-99)', 'H')].tolist(),\n",
    "\n",
    "                   \n",
    "\n",
    "                    'Football (1-13) F': donnees_filtrees[('Fédération Française de Football', '1 - Enfants (1-13)', 'F')].tolist(),\n",
    "                    'Football (14-20) F': donnees_filtrees[('Fédération Française de Football', '2 - Jeunes (14-20)', 'F')].tolist(),\n",
    "                    'Football (21-55) F': donnees_filtrees[('Fédération Française de Football', '3 - Adultes (21-55)', 'F')].tolist(),\n",
    "                    'Football (56-99) F': donnees_filtrees[('Fédération Française de Football', '4 - Seniors (56-99)', 'F')].tolist(),\n",
    "\n",
    "                    'Tennis (1-13) F': donnees_filtrees[('Fédération Française de Tennis', '1 - Enfants (1-13)', 'F')].tolist(),\n",
    "                    'Tennis (14-20) F': donnees_filtrees[('Fédération Française de Tennis', '2 - Jeunes (14-20)', 'F')].tolist(),\n",
    "                    'Tennis (21-55) F': donnees_filtrees[('Fédération Française de Tennis', '3 - Adultes (21-55)', 'F')].tolist(),\n",
    "                    'Tennis (56-99) F': donnees_filtrees[('Fédération Française de Tennis', '4 - Seniors (56-99)', 'F')].tolist(),\n",
    "\n",
    "                    'Basketball (1-13) F': donnees_filtrees[('Fédération Française de Basketball', '1 - Enfants (1-13)', 'F')].tolist(),\n",
    "                    'Basketball (14-20) F': donnees_filtrees[('Fédération Française de Basketball', '2 - Jeunes (14-20)', 'F')].tolist(),\n",
    "                    'Basketball (21-55) F': donnees_filtrees[('Fédération Française de Basketball', '3 - Adultes (21-55)', 'F')].tolist(),\n",
    "                    'Basketball (56-99) F': donnees_filtrees[('Fédération Française de Basketball', '4 - Seniors (56-99)', 'F')].tolist(),\n",
    "\n",
    "                    'Judo (1-13) F': donnees_filtrees[('Fédération Française de Judo, Jujitsu, Kendo et Disciplines Associées', '1 - Enfants (1-13)', 'F')].tolist(),\n",
    "                    'Judo (14-20) F': donnees_filtrees[('Fédération Française de Judo, Jujitsu, Kendo et Disciplines Associées', '2 - Jeunes (14-20)', 'F')].tolist(),\n",
    "                    'Judo (21-55) F': donnees_filtrees[('Fédération Française de Judo, Jujitsu, Kendo et Disciplines Associées', '3 - Adultes (21-55)', 'F')].tolist(),\n",
    "                    'Judo (56-99) F': donnees_filtrees[('Fédération Française de Judo, Jujitsu, Kendo et Disciplines Associées', '4 - Seniors (56-99)', 'F')].tolist(),\n",
    "\n",
    "                    'Handball (1-13) F': donnees_filtrees[('Fédération Française de Handball', '1 - Enfants (1-13)', 'F')].tolist(),\n",
    "                    'Handball (14-20) F': donnees_filtrees[('Fédération Française de Handball', '2 - Jeunes (14-20)', 'F')].tolist(),\n",
    "                    'Handball (21-55) F': donnees_filtrees[('Fédération Française de Handball', '3 - Adultes (21-55)', 'F')].tolist(),\n",
    "                    'Handball (56-99) F': donnees_filtrees[('Fédération Française de Handball', '4 - Seniors (56-99)', 'F')].tolist(),\n",
    "\n",
    "                    'Golf (1-13) F': donnees_filtrees[('Fédération Française de Golf', '1 - Enfants (1-13)', 'F')].tolist(),\n",
    "                    'Golf (14-20) F': donnees_filtrees[('Fédération Française de Golf', '2 - Jeunes (14-20)', 'F')].tolist(),\n",
    "                    'Golf (21-55) F': donnees_filtrees[('Fédération Française de Golf', '3 - Adultes (21-55)', 'F')].tolist(),\n",
    "                    'Golf (56-99) F': donnees_filtrees[('Fédération Française de Golf', '4 - Seniors (56-99)', 'F')].tolist(),\n",
    "\n",
    "                    'Natation (1-13) F': donnees_filtrees[('Fédération Française de Natation', '1 - Enfants (1-13)', 'F')].tolist(),\n",
    "                    'Natation (14-20) F': donnees_filtrees[('Fédération Française de Natation', '2 - Jeunes (14-20)', 'F')].tolist(),\n",
    "                    'Natation (21-55) F': donnees_filtrees[('Fédération Française de Natation', '3 - Adultes (21-55)', 'F')].tolist(),\n",
    "                    'Natation (56-99) F': donnees_filtrees[('Fédération Française de Natation', '4 - Seniors (56-99)', 'F')].tolist(),\n",
    "\n",
    "                    'Rugby (1-13) F': donnees_filtrees[('Fédération Française de Rugby', '1 - Enfants (1-13)', 'F')].tolist(),\n",
    "                    'Rugby (14-20) F': donnees_filtrees[('Fédération Française de Rugby', '2 - Jeunes (14-20)', 'F')].tolist(),\n",
    "                    'Rugby (21-55) F': donnees_filtrees[('Fédération Française de Rugby', '3 - Adultes (21-55)', 'F')].tolist(),\n",
    "                    'Rugby (56-99) F': donnees_filtrees[('Fédération Française de Rugby', '4 - Seniors (56-99)', 'F')].tolist(),\n",
    "                    })"
   ]
  },
  {
   "cell_type": "code",
   "execution_count": 109,
   "metadata": {},
   "outputs": [],
   "source": [
    "# Add a column \"Football\" containing the sum of football-related columns\n",
    "df['Licences_Football'] = df[[col for col in df.columns if col.startswith('Football')]].sum(axis=1)\n",
    "\n",
    "# Add a column \"Tennis\" containing the sum of tennis-related columns\n",
    "df['Licences_Tennis'] = df[[col for col in df.columns if col.startswith('Tennis')]].sum(axis=1)\n",
    "\n",
    "# Add a column \"Basketball\" containing the sum of basketball-related columns\n",
    "df['Licences_Basketball'] = df[[col for col in df.columns if col.startswith('Basketball')]].sum(axis=1)\n",
    "\n",
    "# Add a column \"Judo\" containing the sum of judo-related columns\n",
    "df['Licences_Judo'] = df[[col for col in df.columns if col.startswith('Judo')]].sum(axis=1)\n",
    "\n",
    "# Add a column \"Handball\" containing the sum of handball-related columns\n",
    "df['Licences_Handball'] = df[[col for col in df.columns if col.startswith('Handball')]].sum(axis=1)\n",
    "\n",
    "# Add a column \"Golf\" containing the sum of golf-related columns\n",
    "df['Licences_Golf'] = df[[col for col in df.columns if col.startswith('Golf')]].sum(axis=1)\n",
    "\n",
    "# Add a column \"Natation\" containing the sum of natation-related columns\n",
    "df['Licences_Natation'] = df[[col for col in df.columns if col.startswith('Natation')]].sum(axis=1)\n",
    "\n",
    "# Add a column \"Rugby\" containing the sum of rugby-related columns\n",
    "df['Licences_Rugby'] = df[[col for col in df.columns if col.startswith('Rugby')]].sum(axis=1)\n",
    "\n",
    "# Save the modified DataFrame to a new CSV file named 'AllPages.csv'\n",
    "df.to_csv(\"AllPages.csv\")"
   ]
  }
 ],
 "metadata": {
  "kernelspec": {
   "display_name": "base",
   "language": "python",
   "name": "python3"
  },
  "language_info": {
   "codemirror_mode": {
    "name": "ipython",
    "version": 3
   },
   "file_extension": ".py",
   "mimetype": "text/x-python",
   "name": "python",
   "nbconvert_exporter": "python",
   "pygments_lexer": "ipython3",
   "version": "3.11.8"
  }
 },
 "nbformat": 4,
 "nbformat_minor": 2
}
